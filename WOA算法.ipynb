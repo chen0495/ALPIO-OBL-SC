{
 "cells": [
  {
   "cell_type": "code",
   "execution_count": null,
   "metadata": {},
   "outputs": [],
   "source": []
  },
  {
   "cell_type": "code",
   "execution_count": null,
   "metadata": {},
   "outputs": [],
   "source": []
  },
  {
   "cell_type": "code",
   "execution_count": null,
   "metadata": {},
   "outputs": [],
   "source": []
  },
  {
   "cell_type": "code",
   "execution_count": null,
   "metadata": {},
   "outputs": [],
   "source": []
  },
  {
   "cell_type": "code",
   "execution_count": 9,
   "metadata": {},
   "outputs": [],
   "source": [
    "import numpy as np\n",
    "import random\n",
    "import math\n",
    "import Function as funs\n",
    "from matplotlib import pyplot as plt\n",
    "from mpl_toolkits.mplot3d import Axes3D\n",
    "\n",
    "'''优化函数'''\n",
    "\n",
    "\n",
    "# # y = x^2, 用户可以自己定义其他函数\n",
    "# def fun(X): # F2\n",
    "#     Y = X[1:]\n",
    "#     X = X[:-1]\n",
    "#     O = np.sum(100 * (Y - X*X)**2 + (1-X)**2)\n",
    "#     return O\n",
    "\n",
    "\n",
    "''' 种群初始化函数 '''\n",
    "\n",
    "\n",
    "def initial(pop, dim, ub, lb):\n",
    "    X = np.zeros([pop, dim])\n",
    "    for i in range(pop):\n",
    "        for j in range(dim):\n",
    "            X[i, j] = random.random() * (ub[j] - lb[j]) + lb[j]\n",
    "\n",
    "    return X, lb, ub\n",
    "\n",
    "\n",
    "'''边界检查函数'''\n",
    "\n",
    "\n",
    "def BorderCheck(X, ub, lb, pop, dim):\n",
    "    for i in range(pop):\n",
    "        for j in range(dim):\n",
    "            if X[i, j] > ub[j]:\n",
    "                X[i, j] = ub[j]\n",
    "            elif X[i, j] < lb[j]:\n",
    "                X[i, j] = lb[j]\n",
    "    return X\n",
    "\n",
    "\n",
    "'''计算适应度函数'''\n",
    "\n",
    "\n",
    "def CaculateFitness(X, fun):\n",
    "    pop = X.shape[0]\n",
    "    fitness = np.zeros([pop, 1])\n",
    "    for i in range(pop):\n",
    "        fitness[i] = fun(X[i, :])\n",
    "    return fitness\n",
    "\n",
    "\n",
    "'''计算适应度函数-2'''\n",
    "\n",
    "\n",
    "def CaculateFitness2(X,fun,C_c,C_rl):\n",
    "    pop = X.shape[0]\n",
    "    fitness = np.zeros([pop, 1])\n",
    "    for i in range(pop):\n",
    "        fitness[i] = fun(X[i, :],C_c,C_rl)\n",
    "    return fitness\n",
    "\n",
    "\n",
    "'''适应度排序'''\n",
    "\n",
    "\n",
    "def SortFitness(Fit):\n",
    "    fitness = np.sort(Fit, axis=0)\n",
    "    index = np.argsort(Fit, axis=0)\n",
    "    return fitness, index\n",
    "\n",
    "\n",
    "'''根据适应度对位置进行排序'''\n",
    "\n",
    "\n",
    "def SortPosition(X, index):\n",
    "    Xnew = np.zeros(X.shape)\n",
    "    for i in range(X.shape[0]):\n",
    "        Xnew[i, :] = X[index[i], :]\n",
    "    return Xnew\n"
   ]
  },
  {
   "cell_type": "code",
   "execution_count": 10,
   "metadata": {},
   "outputs": [],
   "source": [
    "'''鲸鱼优化算法'''\n",
    "\n",
    "def WOA(pop, dim, lb, ub, Max_iter, fun, c, rl):\n",
    "    X, lb, ub = initial(pop, dim, ub, lb)  # 初始化种群\n",
    "    fitness = CaculateFitness2(X, fun, c, rl)  # 计算适应度值\n",
    "    fitness, sortIndex = SortFitness(fitness)  # 对适应度值排序\n",
    "    X = SortPosition(X, sortIndex)  # 种群排序\n",
    "    GbestScore = fitness[0]\n",
    "    GbestPositon = np.zeros([1,dim])\n",
    "    GbestPositon[0,:] = X[0, :]\n",
    "    Curve = np.zeros([MaxIter, 1])\n",
    "    for t in range(MaxIter):\n",
    "        Leader = X[0, :]  # 领头鲸鱼\n",
    "        a = 2 * np.cos(t * math.pi /(2 * MaxIter))\n",
    "        W = 2 * np.cos(t * math.pi /(2 * MaxIter))\n",
    "        for i in range(pop):\n",
    "            r1 = random.random()\n",
    "            r2 = random.random()\n",
    "\n",
    "            A = 2 * a * r1 - a\n",
    "            C = 2 * r2\n",
    "            b = 1\n",
    "            l = (a - 1) * random.random() + 1\n",
    "\n",
    "            for j in range(dim):\n",
    "\n",
    "                p = random.random()\n",
    "                if p < 0.5:\n",
    "                    if np.abs(A) >= 1:\n",
    "                        rand_leader_index = min(int(np.floor(pop * random.random() + 1)), pop - 1)\n",
    "                        X_rand = X[rand_leader_index, :]\n",
    "                        D_X_rand = np.abs(C * X_rand[j] - X[i, j])\n",
    "                        X[i, j] = W * X_rand[j] - A * D_X_rand\n",
    "                    elif np.abs(A) < 1:\n",
    "                        D_Leader = np.abs(C * Leader[j] - X[i, j])\n",
    "                        X[i, j] = W * Leader[j] - A * D_Leader\n",
    "                elif p >= 0.5:\n",
    "                    distance2Leader = np.abs(Leader[j] - X[i, j])\n",
    "                    X[i, j] = W * distance2Leader * np.exp(b * l) * np.cos(l * 2 * math.pi) + Leader[j]\n",
    "                \n",
    "\n",
    "        X = BorderCheck(X, ub, lb, pop, dim)  # 边界检测\n",
    "        fitness = CaculateFitness2(X, fun, c, rl)  # 计算适应度值\n",
    "        fitness, sortIndex = SortFitness(fitness)  # 对适应度值排序\n",
    "        X = SortPosition(X, sortIndex)  # 种群排序\n",
    "        if fitness[0] <= GbestScore:  # 更新全局最优\n",
    "            GbestScore = fitness[0]\n",
    "            GbestPositon[0,:] = X[0, :]\n",
    "        Curve[t] = GbestScore\n",
    "\n",
    "    return GbestScore, GbestPositon, Curve"
   ]
  },
  {
   "cell_type": "code",
   "execution_count": 11,
   "metadata": {},
   "outputs": [
    {
     "data": {
      "text/plain": [
       "array([[0.8823886 , 0.59639408, 0.92196374, 0.87318201],\n",
       "       [0.73860717, 0.97232869, 0.64702835, 0.84807461],\n",
       "       [0.6242009 , 0.80544821, 0.58350732, 0.64032434],\n",
       "       [0.99443405, 0.9545435 , 0.8988845 , 0.7894955 ],\n",
       "       [0.87916995, 0.84020181, 0.89166461, 0.51615426],\n",
       "       [0.62185635, 0.57733029, 0.85319992, 0.95652554],\n",
       "       [0.53466895, 0.51618789, 0.80579362, 0.60709275],\n",
       "       [0.94704415, 0.86282008, 0.69447341, 0.87413365],\n",
       "       [0.6830063 , 0.63221256, 0.86014025, 0.81808371],\n",
       "       [0.94541162, 0.73937031, 0.75081246, 0.7798229 ]])"
      ]
     },
     "execution_count": 11,
     "metadata": {},
     "output_type": "execute_result"
    }
   ],
   "source": [
    "o = [0.2,0.5,0.5,0.3,0.6,\n",
    "     0.7,0.8,0.9,0.8,0.6,\n",
    "     0.3,0.5,0.5,0.4,0.2]\n",
    "c = np.random.uniform(0.5, 1, size=(100,4))\n",
    "c[:10]"
   ]
  },
  {
   "cell_type": "code",
   "execution_count": 12,
   "metadata": {},
   "outputs": [
    {
     "data": {
      "text/plain": [
       "array([0.82368846, 0.86854061, 0.70981758, 0.94836901, 0.79365462,\n",
       "       0.75836608, 0.60219465, 0.90608425, 0.75383099, 0.84246056])"
      ]
     },
     "execution_count": 12,
     "metadata": {},
     "output_type": "execute_result"
    }
   ],
   "source": [
    "rl = []\n",
    "for it in c:\n",
    "    f = funs.FPN(o,it)\n",
    "    rl.append(f)\n",
    "rl = np.array(rl)\n",
    "rl[:10]"
   ]
  },
  {
   "cell_type": "code",
   "execution_count": null,
   "metadata": {},
   "outputs": [],
   "source": []
  },
  {
   "cell_type": "code",
   "execution_count": 13,
   "metadata": {},
   "outputs": [],
   "source": [
    "'''主函数 '''\n",
    "# 设置参数\n",
    "pop = 50  # 种群数量\n",
    "MaxIter = 1000  # 最大迭代次数\n",
    "dim = 15  # 维度\n",
    "lb = 0 * np.ones([dim, 1])  # 下边界\n",
    "ub = 1 * np.ones([dim, 1])  # 上边界\n",
    "\n",
    "o = [0.2,0.3,0.5,0.3,0.6, # 最佳参数期望\n",
    "     0.7,0.5,0.9,0.7,0.6,\n",
    "     0.3,0.5,0.7,0.4,0.2]\n",
    "c = np.random.uniform(0.5, 1, size=(100,4)) # 随机输入值\n",
    "\n",
    "rl = []\n",
    "for it in c:\n",
    "    f = funs.FPN(o,it)\n",
    "    rl.append(f)\n",
    "rl = np.array(rl) # 输出值\n",
    "\n",
    "fun = funs.FNs"
   ]
  },
  {
   "cell_type": "code",
   "execution_count": 14,
   "metadata": {},
   "outputs": [
    {
     "name": "stdout",
     "output_type": "stream",
     "text": [
      "最优适应度值： [0.66286244]\n",
      "最优解： [[0.05848412 0.75717313 0.95122658 0.01552023 0.81439148 0.72601864\n",
      "  0.87023379 0.93528618 0.25658676 0.65377539 0.44035016 0.64838425\n",
      "  0.24725474 0.76761197 0.15767783]]\n"
     ]
    }
   ],
   "source": [
    "GbestScore, GbestPositon, Curve = WOA(pop, dim, lb, ub, MaxIter, fun ,c,rl)\n",
    "print('最优适应度值：', GbestScore)\n",
    "print('最优解：', GbestPositon)"
   ]
  },
  {
   "cell_type": "code",
   "execution_count": 16,
   "metadata": {},
   "outputs": [
    {
     "data": {
      "image/png": "[encoded data removed]",
      "text/plain": [
       "<Figure size 432x288 with 1 Axes>"
      ]
     },
     "metadata": {
      "needs_background": "light"
     },
     "output_type": "display_data"
    }
   ],
   "source": [
    "# 绘制适应度曲线\n",
    "plt.figure(1)\n",
    "plt.plot(Curve,'g-',label='WOA')\n",
    "plt.xlabel('Iteration',fontsize='medium')\n",
    "plt.ylabel(\"Fitness\",fontsize='medium')\n",
    "plt.grid()\n",
    "plt.title('FPN',fontsize='large')\n",
    "plt.legend()\n",
    "plt.show()\n"
   ]
  },
  {
   "cell_type": "code",
   "execution_count": null,
   "metadata": {},
   "outputs": [],
   "source": [
    "# # 绘制搜索空间\n",
    "# fig = plt.figure(2)\n",
    "# ax = Axes3D(fig)\n",
    "# X = np.arange(-4, 4, 0.25)\n",
    "# Y = np.arange(-4, 4, 0.25)\n",
    "# X, Y = np.meshgrid(X, Y)\n",
    "# Z = X ** 2 + Y ** 2\n",
    "# ax.plot_surface(X, Y, Z, rstride=1, cstride=1, cmap='rainbow')\n",
    "# plt.show()"
   ]
  }
 ],
 "metadata": {
  "kernelspec": {
   "display_name": "Python 3",
   "language": "python",
   "name": "python3"
  },
  "language_info": {
   "codemirror_mode": {
    "name": "ipython",
    "version": 3
   },
   "file_extension": ".py",
   "mimetype": "text/x-python",
   "name": "python",
   "nbconvert_exporter": "python",
   "pygments_lexer": "ipython3",
   "version": "3.8.3"
  }
 },
 "nbformat": 4,
 "nbformat_minor": 4
}
