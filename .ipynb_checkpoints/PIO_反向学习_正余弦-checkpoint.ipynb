{
 "cells": [
  {
   "cell_type": "code",
   "execution_count": 1,
   "metadata": {},
   "outputs": [],
   "source": [
    "# -*- coding: utf-8 -*-\n",
    "# @Time    : 1/21/2022 3:18 PM\n",
    "# @Author  : Chen0495\n",
    "# @Email   : 1346565673@qq.com|chenweiin612@gmail.com\n",
    "# @File    : PIO.py\n",
    "# @Software: PyCharm\n",
    "import numpy as np\n",
    "import random\n",
    "import copy\n",
    "from matplotlib import pyplot as plt\n",
    "from mpl_toolkits.mplot3d import Axes3D\n",
    "import PIO\n",
    "import Function as fun\n",
    "import math\n",
    "\n",
    "''' 种群初始化函数 '''\n",
    "\n",
    "\n",
    "def initial(pop, dim, ub, lb):\n",
    "    X = np.zeros([pop, dim])\n",
    "    for i in range(pop):\n",
    "        for j in range(dim):\n",
    "            X[i, j] = random.random() * (ub[j] - lb[j]) + lb[j]\n",
    "            \n",
    "\n",
    "    return X, lb, ub\n",
    "\n",
    "\n",
    "''' 种群反向函数 '''\n",
    "\n",
    "\n",
    "def opposite(X,ub,lb,k=0.9):\n",
    "    pop, dim = X.shape\n",
    "    Y = np.zeros([pop, dim])\n",
    "    for i in range(pop):\n",
    "        for j in range(dim):\n",
    "            Y[i, j] = k * (ub[j] + lb[j]) - X[i, j]\n",
    "    Y = BorderCheck(Y,ub,lb,pop,dim)\n",
    "    return Y\n",
    "\n",
    "\n",
    "\n",
    "'''边界检查函数'''\n",
    "\n",
    "\n",
    "def BorderCheck(X, ub, lb, pop, dim):\n",
    "    for i in range(pop):\n",
    "        for j in range(dim):\n",
    "            if X[i, j] > ub[j]:\n",
    "                X[i, j] = ub[j]\n",
    "            elif X[i, j] < lb[j]:\n",
    "                X[i, j] = lb[j]\n",
    "    return X\n",
    "\n",
    "\n",
    "'''计算适应度函数'''\n",
    "\n",
    "\n",
    "def CaculateFitness(X, fun):\n",
    "    pop = X.shape[0]\n",
    "    fitness = np.zeros([pop, 1])\n",
    "    for i in range(pop):\n",
    "        fitness[i] = fun(X[i, :])\n",
    "    return fitness\n",
    "\n",
    "\n",
    "'''适应度排序'''\n",
    "\n",
    "\n",
    "def SortFitness(Fit):\n",
    "    fitness = np.sort(Fit, axis=0)\n",
    "    index = np.argsort(Fit, axis=0)\n",
    "    return fitness, index\n",
    "\n",
    "\n",
    "'''根据适应度对位置进行排序'''\n",
    "\n",
    "\n",
    "def SortPosition(X, index):\n",
    "    Xnew = np.zeros(X.shape)\n",
    "    for i in range(X.shape[0]):\n",
    "        Xnew[i, :] = X[index[i], :]\n",
    "    return Xnew\n",
    "\n",
    "\n",
    "'''正弦余弦优化函数'''\n",
    "\n",
    "\n",
    "def SCA(r1,V,G,X):\n",
    "    r2 = random.uniform(0,2*math.pi)\n",
    "    r3 = random.uniform(0,2)\n",
    "    r4 = random.random()\n",
    "    if r4 < 0.5:\n",
    "        return V + r1 * np.sin(r2) * np.abs(r3*G - X)\n",
    "    else:\n",
    "        return V + r1 * np.cos(r2) * np.abs(r3*G - X)\n",
    "    \n"
   ]
  },
  {
   "cell_type": "code",
   "execution_count": null,
   "metadata": {},
   "outputs": [],
   "source": [
    "o = [0.2,0.5,0.5,0.3,0.6,]"
   ]
  },
  {
   "cell_type": "code",
   "execution_count": 2,
   "metadata": {},
   "outputs": [
    {
     "data": {
      "text/plain": [
       "(array([[ 3.62582016,  4.38721254],\n",
       "        [ 4.43372025,  0.36594544],\n",
       "        [ 4.7521299 ,  4.19440927],\n",
       "        [-0.52649667,  0.50173401],\n",
       "        [ 2.56820331, -3.57398803],\n",
       "        [ 3.57698204,  2.00406522],\n",
       "        [-4.81985346,  3.88728624],\n",
       "        [ 1.10294598,  4.1604567 ],\n",
       "        [-3.89146237,  0.68969316],\n",
       "        [ 1.23854438, -3.03510738],\n",
       "        [ 1.54073548, -3.02995292],\n",
       "        [-1.67169514,  1.60870068],\n",
       "        [-2.80805927, -0.42495448],\n",
       "        [-1.01229161, -1.31848201],\n",
       "        [ 0.6184173 ,  1.89860521],\n",
       "        [ 2.77250057,  1.38728459],\n",
       "        [-3.55686065,  2.54012727],\n",
       "        [ 0.71418904, -0.50466059],\n",
       "        [ 0.40782037, -2.49158101],\n",
       "        [-4.13918422, -1.1515978 ],\n",
       "        [-1.73077149, -2.06495395],\n",
       "        [ 2.18862872,  2.42798829],\n",
       "        [-0.66213202, -3.92056845],\n",
       "        [-3.27173877,  1.79257493],\n",
       "        [ 1.46430574, -0.51343553],\n",
       "        [-1.3993138 , -0.31137058],\n",
       "        [ 1.47649452,  2.20270528],\n",
       "        [ 2.80334699,  2.5169897 ],\n",
       "        [-1.31031857,  0.59148349],\n",
       "        [-2.16062129, -2.27199136],\n",
       "        [ 1.80071448,  2.3632516 ],\n",
       "        [-3.32385428,  0.01516605],\n",
       "        [ 2.89671196, -1.62800868],\n",
       "        [ 0.63019862, -3.78928676],\n",
       "        [-2.11865734,  3.69742156],\n",
       "        [-0.16718913, -2.1895502 ],\n",
       "        [ 3.28504532, -1.70239312],\n",
       "        [ 4.18011716,  1.56296379],\n",
       "        [-4.57556932,  4.24088933],\n",
       "        [-5.03795684, -0.71267542],\n",
       "        [ 1.61976938,  3.57684948],\n",
       "        [-0.17420301, -3.799896  ],\n",
       "        [ 4.14396951, -4.21345614],\n",
       "        [-0.10409529,  4.47625325],\n",
       "        [-0.12560429,  4.61046832],\n",
       "        [-2.65348966,  3.22193779],\n",
       "        [ 1.40144014, -1.24013026],\n",
       "        [ 0.98298287, -3.44869088],\n",
       "        [ 0.40495652, -5.03054484],\n",
       "        [ 3.69240792,  3.16385049]]),\n",
       " array([[-3.62582016, -4.38721254],\n",
       "        [-4.43372025, -0.36594544],\n",
       "        [-4.7521299 , -4.19440927],\n",
       "        [ 0.52649667, -0.50173401],\n",
       "        [-2.56820331,  3.57398803],\n",
       "        [-3.57698204, -2.00406522],\n",
       "        [ 4.81985346, -3.88728624],\n",
       "        [-1.10294598, -4.1604567 ],\n",
       "        [ 3.89146237, -0.68969316],\n",
       "        [-1.23854438,  3.03510738],\n",
       "        [-1.54073548,  3.02995292],\n",
       "        [ 1.67169514, -1.60870068],\n",
       "        [ 2.80805927,  0.42495448],\n",
       "        [ 1.01229161,  1.31848201],\n",
       "        [-0.6184173 , -1.89860521],\n",
       "        [-2.77250057, -1.38728459],\n",
       "        [ 3.55686065, -2.54012727],\n",
       "        [-0.71418904,  0.50466059],\n",
       "        [-0.40782037,  2.49158101],\n",
       "        [ 4.13918422,  1.1515978 ],\n",
       "        [ 1.73077149,  2.06495395],\n",
       "        [-2.18862872, -2.42798829],\n",
       "        [ 0.66213202,  3.92056845],\n",
       "        [ 3.27173877, -1.79257493],\n",
       "        [-1.46430574,  0.51343553],\n",
       "        [ 1.3993138 ,  0.31137058],\n",
       "        [-1.47649452, -2.20270528],\n",
       "        [-2.80334699, -2.5169897 ],\n",
       "        [ 1.31031857, -0.59148349],\n",
       "        [ 2.16062129,  2.27199136],\n",
       "        [-1.80071448, -2.3632516 ],\n",
       "        [ 3.32385428, -0.01516605],\n",
       "        [-2.89671196,  1.62800868],\n",
       "        [-0.63019862,  3.78928676],\n",
       "        [ 2.11865734, -3.69742156],\n",
       "        [ 0.16718913,  2.1895502 ],\n",
       "        [-3.28504532,  1.70239312],\n",
       "        [-4.18011716, -1.56296379],\n",
       "        [ 4.57556932, -4.24088933],\n",
       "        [ 5.03795684,  0.71267542],\n",
       "        [-1.61976938, -3.57684948],\n",
       "        [ 0.17420301,  3.799896  ],\n",
       "        [-4.14396951,  4.21345614],\n",
       "        [ 0.10409529, -4.47625325],\n",
       "        [ 0.12560429, -4.61046832],\n",
       "        [ 2.65348966, -3.22193779],\n",
       "        [-1.40144014,  1.24013026],\n",
       "        [-0.98298287,  3.44869088],\n",
       "        [-0.40495652,  5.03054484],\n",
       "        [-3.69240792, -3.16385049]]))"
      ]
     },
     "execution_count": 2,
     "metadata": {},
     "output_type": "execute_result"
    }
   ],
   "source": [
    "'''主函数 '''\n",
    "#设置参数\n",
    "pop = 50 #种群数量,建议维度dim*5\n",
    "MaxIter = 1000 #最大迭代次数\n",
    "dim = 2 #维度\n",
    "l = -5.12 #下边界系数\n",
    "u = 5.12 #上边界系数\n",
    "lb = l*np.ones([dim, 1]) #下边界\n",
    "ub = u*np.ones([dim, 1]) #上边界\n",
    "#适应度函数选择\n",
    "fobj = fun.Drop_Wave\n",
    "\n",
    "Nc1= round(MaxIter*0.8) #地图因子\n",
    "Nc2= MaxIter - Nc1 #指南因子\n",
    "\n",
    "X, lb, ub = initial(pop, dim, ub, lb)  # 初始化种群\n",
    "Y = opposite(X,ub,lb,0.9)# 反向种群\n",
    "Vec = np.random.random([pop,dim]) #初始速度\n",
    "X_op = copy.deepcopy(X)\n",
    "Vec_op = copy.deepcopy(Vec)\n",
    "X,Y"
   ]
  },
  {
   "cell_type": "markdown",
   "metadata": {},
   "source": [
    "# step 1"
   ]
  },
  {
   "cell_type": "code",
   "execution_count": 3,
   "metadata": {},
   "outputs": [
    {
     "name": "stdout",
     "output_type": "stream",
     "text": [
      "[-0.71109202]\n",
      "[[ 1.46430574 -0.51343553]]\n",
      "[[ 1.46430574 -0.51343553]\n",
      " [ 1.47649452  2.20270528]\n",
      " [-2.16062129 -2.27199136]\n",
      " [ 2.77250057  1.38728459]\n",
      " [-1.01229161 -1.31848201]\n",
      " [ 3.28504532 -1.70239312]\n",
      " [-2.65348966  3.22193779]\n",
      " [-1.73077149 -2.06495395]\n",
      " [ 0.6184173   1.89860521]\n",
      " [-3.27173877  1.79257493]]\n",
      "[[-0.71109202]\n",
      " [-0.57696513]\n",
      " [-0.55979779]\n",
      " [-0.52934362]\n",
      " [-0.51417533]\n",
      " [-0.49720899]\n",
      " [-0.48549168]\n",
      " [-0.48059355]\n",
      " [-0.46321868]\n",
      " [-0.44167249]]\n"
     ]
    }
   ],
   "source": [
    "'''鸽群算法'''\n",
    "fitness = CaculateFitness(X, fobj)  # 计算适应度值\n",
    "fitness, sortIndex = SortFitness(fitness)  # 对适应度值排序\n",
    "X = SortPosition(X, sortIndex)  # 种群排序\n",
    "GbestScore = copy.copy(fitness[0])\n",
    "GbestPositon = np.zeros([1,dim])\n",
    "GbestPositon[0,:] =  copy.copy(X[0, :])\n",
    "Curve = np.zeros([MaxIter, 1])\n",
    "print(GbestScore,GbestPositon,X[:10],fitness[:10],sep=\"\\n\")"
   ]
  },
  {
   "cell_type": "code",
   "execution_count": 4,
   "metadata": {},
   "outputs": [
    {
     "name": "stdout",
     "output_type": "stream",
     "text": [
      "[-0.71109202]\n",
      "[[ 1.46430574 -0.51343553]]\n",
      "[[ 1.46430574 -0.51343553]\n",
      " [-1.46430574  0.51343553]\n",
      " [ 1.47649452  2.20270528]\n",
      " [-1.47649452 -2.20270528]\n",
      " [-2.16062129 -2.27199136]\n",
      " [ 2.16062129  2.27199136]\n",
      " [-2.77250057 -1.38728459]\n",
      " [ 2.77250057  1.38728459]\n",
      " [ 1.01229161  1.31848201]\n",
      " [-1.01229161 -1.31848201]]\n",
      "[[-0.71109202]\n",
      " [-0.71109202]\n",
      " [-0.57696513]\n",
      " [-0.57696513]\n",
      " [-0.55979779]\n",
      " [-0.55979779]\n",
      " [-0.52934362]\n",
      " [-0.52934362]\n",
      " [-0.51417533]\n",
      " [-0.51417533]]\n"
     ]
    }
   ],
   "source": [
    "'''改进鸽群算法'''\n",
    "X_op = np.vstack((X_op,Y))\n",
    "\n",
    "fitness_op = CaculateFitness(X_op, fobj)  # 计算适应度值\n",
    "fitness_op, sortIndex_op = SortFitness(fitness_op)  # 对适应度值排序\n",
    "X_op = SortPosition(X_op, sortIndex_op)[:pop]  # 种群排序\n",
    "fitness_op = fitness_op[:pop]\n",
    "\n",
    "GbestScore_op = copy.copy(fitness_op[0]) # 最佳适应度\n",
    "GbestPositon_op = np.zeros([1,dim]) # 最佳位置初始化\n",
    "GbestPositon_op[0,:] =  copy.copy(X_op[0, :]) # 最佳位置\n",
    "Curve_op = np.zeros([MaxIter, 1]) # 迭代次数\n",
    "print(GbestScore_op,GbestPositon_op,X_op[:10],fitness_op[:10],sep=\"\\n\")\n"
   ]
  },
  {
   "cell_type": "code",
   "execution_count": 5,
   "metadata": {},
   "outputs": [
    {
     "data": {
      "text/plain": [
       "800"
      ]
     },
     "execution_count": 5,
     "metadata": {},
     "output_type": "execute_result"
    }
   ],
   "source": [
    "Nc1"
   ]
  },
  {
   "cell_type": "markdown",
   "metadata": {},
   "source": [
    "# step 2 "
   ]
  },
  {
   "cell_type": "code",
   "execution_count": 6,
   "metadata": {},
   "outputs": [
    {
     "data": {
      "text/plain": [
       "(array([[ 1.46430574, -0.51343553],\n",
       "        [ 1.47649452,  2.20270528],\n",
       "        [-2.16062129, -2.27199136],\n",
       "        [ 2.77250057,  1.38728459],\n",
       "        [-1.01229161, -1.31848201],\n",
       "        [ 3.28504532, -1.70239312],\n",
       "        [-2.65348966,  3.22193779],\n",
       "        [-1.73077149, -2.06495395],\n",
       "        [ 0.6184173 ,  1.89860521],\n",
       "        [-3.27173877,  1.79257493],\n",
       "        [ 0.40782037, -2.49158101],\n",
       "        [-0.16718913, -2.1895502 ],\n",
       "        [ 0.98298287, -3.44869088],\n",
       "        [-2.11865734,  3.69742156],\n",
       "        [ 3.57698204,  2.00406522],\n",
       "        [-4.57556932,  4.24088933],\n",
       "        [-1.31031857,  0.59148349],\n",
       "        [ 3.62582016,  4.38721254],\n",
       "        [ 4.7521299 ,  4.19440927],\n",
       "        [ 2.80334699,  2.5169897 ],\n",
       "        [-1.3993138 , -0.31137058],\n",
       "        [-0.12560429,  4.61046832],\n",
       "        [-4.13918422, -1.1515978 ],\n",
       "        [ 2.18862872,  2.42798829],\n",
       "        [-4.81985346,  3.88728624],\n",
       "        [ 1.10294598,  4.1604567 ],\n",
       "        [ 1.23854438, -3.03510738],\n",
       "        [-0.17420301, -3.799896  ],\n",
       "        [ 0.71418904, -0.50466059],\n",
       "        [-5.03795684, -0.71267542],\n",
       "        [ 3.69240792,  3.16385049],\n",
       "        [ 1.80071448,  2.3632516 ],\n",
       "        [ 4.14396951, -4.21345614],\n",
       "        [ 0.63019862, -3.78928676],\n",
       "        [ 2.89671196, -1.62800868],\n",
       "        [-3.32385428,  0.01516605],\n",
       "        [-3.55686065,  2.54012727],\n",
       "        [-0.52649667,  0.50173401],\n",
       "        [ 0.40495652, -5.03054484],\n",
       "        [-0.66213202, -3.92056845],\n",
       "        [ 2.56820331, -3.57398803],\n",
       "        [ 1.40144014, -1.24013026],\n",
       "        [-2.80805927, -0.42495448],\n",
       "        [-1.67169514,  1.60870068],\n",
       "        [-0.10409529,  4.47625325],\n",
       "        [-3.89146237,  0.68969316],\n",
       "        [ 4.18011716,  1.56296379],\n",
       "        [ 1.54073548, -3.02995292],\n",
       "        [ 4.43372025,  0.36594544],\n",
       "        [ 1.61976938,  3.57684948]]),\n",
       " array([[0.67510862, 0.30033482],\n",
       "        [0.9191695 , 0.29872166],\n",
       "        [0.66695736, 0.2718477 ],\n",
       "        [0.92481275, 0.01318932],\n",
       "        [0.15302199, 0.62664238],\n",
       "        [0.67812826, 0.98205183],\n",
       "        [0.16504891, 0.7639992 ],\n",
       "        [0.63518639, 0.97737238],\n",
       "        [0.58510485, 0.39489019],\n",
       "        [0.5381756 , 0.23825588],\n",
       "        [0.01479059, 0.85351047],\n",
       "        [0.17724918, 0.71041084],\n",
       "        [0.95078888, 0.252579  ],\n",
       "        [0.79557067, 0.87834119],\n",
       "        [0.21670515, 0.06284356],\n",
       "        [0.48012739, 0.05121541],\n",
       "        [0.01199664, 0.52413586],\n",
       "        [0.55069035, 0.6269366 ],\n",
       "        [0.3669111 , 0.22331023],\n",
       "        [0.12435824, 0.73222005],\n",
       "        [0.08700068, 0.45482999],\n",
       "        [0.55634   , 0.85754162],\n",
       "        [0.37132488, 0.69220645],\n",
       "        [0.554404  , 0.12139712],\n",
       "        [0.80560074, 0.7163307 ],\n",
       "        [0.73109739, 0.26965625],\n",
       "        [0.01964205, 0.6487492 ],\n",
       "        [0.12418062, 0.60896061],\n",
       "        [0.95785697, 0.43226315],\n",
       "        [0.38217986, 0.77061108],\n",
       "        [0.86400952, 0.16719691],\n",
       "        [0.66376486, 0.77071741],\n",
       "        [0.10984817, 0.09574366],\n",
       "        [0.47982688, 0.58909439],\n",
       "        [0.42503747, 0.17445378],\n",
       "        [0.79340994, 0.1017939 ],\n",
       "        [0.27937063, 0.30574916],\n",
       "        [0.70800878, 0.15607375],\n",
       "        [0.57023262, 0.3150192 ],\n",
       "        [0.74050293, 0.64788009],\n",
       "        [0.07738101, 0.34221881],\n",
       "        [0.59229823, 0.16728512],\n",
       "        [0.28907815, 0.64210836],\n",
       "        [0.39697203, 0.7135677 ],\n",
       "        [0.96675401, 0.08959268],\n",
       "        [0.51382353, 0.07948251],\n",
       "        [0.91960986, 0.61160505],\n",
       "        [0.19580449, 0.38796266],\n",
       "        [0.77208323, 0.20298157],\n",
       "        [0.41416427, 0.54220992]]))"
      ]
     },
     "execution_count": 6,
     "metadata": {},
     "output_type": "execute_result"
    }
   ],
   "source": [
    "'''鸽群算法'''\n",
    "X_new = X\n",
    "VecNew = Vec\n",
    "X_new,VecNew"
   ]
  },
  {
   "cell_type": "code",
   "execution_count": 7,
   "metadata": {},
   "outputs": [
    {
     "data": {
      "text/plain": [
       "(array([[ 1.46430574, -0.51343553],\n",
       "        [-1.46430574,  0.51343553],\n",
       "        [ 1.47649452,  2.20270528],\n",
       "        [-1.47649452, -2.20270528],\n",
       "        [-2.16062129, -2.27199136],\n",
       "        [ 2.16062129,  2.27199136],\n",
       "        [-2.77250057, -1.38728459],\n",
       "        [ 2.77250057,  1.38728459],\n",
       "        [ 1.01229161,  1.31848201],\n",
       "        [-1.01229161, -1.31848201],\n",
       "        [ 3.28504532, -1.70239312],\n",
       "        [-3.28504532,  1.70239312],\n",
       "        [-2.65348966,  3.22193779],\n",
       "        [ 2.65348966, -3.22193779],\n",
       "        [ 1.73077149,  2.06495395],\n",
       "        [-1.73077149, -2.06495395],\n",
       "        [ 0.6184173 ,  1.89860521],\n",
       "        [-0.6184173 , -1.89860521],\n",
       "        [ 3.27173877, -1.79257493],\n",
       "        [-3.27173877,  1.79257493],\n",
       "        [-0.40782037,  2.49158101],\n",
       "        [ 0.40782037, -2.49158101],\n",
       "        [ 0.16718913,  2.1895502 ],\n",
       "        [-0.16718913, -2.1895502 ],\n",
       "        [ 0.98298287, -3.44869088],\n",
       "        [-0.98298287,  3.44869088],\n",
       "        [ 2.11865734, -3.69742156],\n",
       "        [-2.11865734,  3.69742156],\n",
       "        [ 3.57698204,  2.00406522],\n",
       "        [-3.57698204, -2.00406522],\n",
       "        [ 4.57556932, -4.24088933],\n",
       "        [-4.57556932,  4.24088933],\n",
       "        [-1.31031857,  0.59148349],\n",
       "        [ 1.31031857, -0.59148349],\n",
       "        [-3.62582016, -4.38721254],\n",
       "        [ 3.62582016,  4.38721254],\n",
       "        [ 4.7521299 ,  4.19440927],\n",
       "        [-4.7521299 , -4.19440927],\n",
       "        [ 2.80334699,  2.5169897 ],\n",
       "        [-2.80334699, -2.5169897 ],\n",
       "        [ 1.3993138 ,  0.31137058],\n",
       "        [-1.3993138 , -0.31137058],\n",
       "        [-0.12560429,  4.61046832],\n",
       "        [ 0.12560429, -4.61046832],\n",
       "        [-4.13918422, -1.1515978 ],\n",
       "        [ 4.13918422,  1.1515978 ],\n",
       "        [ 2.18862872,  2.42798829],\n",
       "        [-2.18862872, -2.42798829],\n",
       "        [ 4.81985346, -3.88728624],\n",
       "        [-4.81985346,  3.88728624]]),\n",
       " array([[0.67510862, 0.30033482],\n",
       "        [0.9191695 , 0.29872166],\n",
       "        [0.66695736, 0.2718477 ],\n",
       "        [0.92481275, 0.01318932],\n",
       "        [0.15302199, 0.62664238],\n",
       "        [0.67812826, 0.98205183],\n",
       "        [0.16504891, 0.7639992 ],\n",
       "        [0.63518639, 0.97737238],\n",
       "        [0.58510485, 0.39489019],\n",
       "        [0.5381756 , 0.23825588],\n",
       "        [0.01479059, 0.85351047],\n",
       "        [0.17724918, 0.71041084],\n",
       "        [0.95078888, 0.252579  ],\n",
       "        [0.79557067, 0.87834119],\n",
       "        [0.21670515, 0.06284356],\n",
       "        [0.48012739, 0.05121541],\n",
       "        [0.01199664, 0.52413586],\n",
       "        [0.55069035, 0.6269366 ],\n",
       "        [0.3669111 , 0.22331023],\n",
       "        [0.12435824, 0.73222005],\n",
       "        [0.08700068, 0.45482999],\n",
       "        [0.55634   , 0.85754162],\n",
       "        [0.37132488, 0.69220645],\n",
       "        [0.554404  , 0.12139712],\n",
       "        [0.80560074, 0.7163307 ],\n",
       "        [0.73109739, 0.26965625],\n",
       "        [0.01964205, 0.6487492 ],\n",
       "        [0.12418062, 0.60896061],\n",
       "        [0.95785697, 0.43226315],\n",
       "        [0.38217986, 0.77061108],\n",
       "        [0.86400952, 0.16719691],\n",
       "        [0.66376486, 0.77071741],\n",
       "        [0.10984817, 0.09574366],\n",
       "        [0.47982688, 0.58909439],\n",
       "        [0.42503747, 0.17445378],\n",
       "        [0.79340994, 0.1017939 ],\n",
       "        [0.27937063, 0.30574916],\n",
       "        [0.70800878, 0.15607375],\n",
       "        [0.57023262, 0.3150192 ],\n",
       "        [0.74050293, 0.64788009],\n",
       "        [0.07738101, 0.34221881],\n",
       "        [0.59229823, 0.16728512],\n",
       "        [0.28907815, 0.64210836],\n",
       "        [0.39697203, 0.7135677 ],\n",
       "        [0.96675401, 0.08959268],\n",
       "        [0.51382353, 0.07948251],\n",
       "        [0.91960986, 0.61160505],\n",
       "        [0.19580449, 0.38796266],\n",
       "        [0.77208323, 0.20298157],\n",
       "        [0.41416427, 0.54220992]]))"
      ]
     },
     "execution_count": 7,
     "metadata": {},
     "output_type": "execute_result"
    }
   ],
   "source": [
    "'''改进鸽群算法'''\n",
    "X_new_op = X_op\n",
    "VecNew_op = Vec_op\n",
    "X_new_op,VecNew_op"
   ]
  },
  {
   "cell_type": "markdown",
   "metadata": {},
   "source": [
    "# step 3"
   ]
  },
  {
   "cell_type": "code",
   "execution_count": 8,
   "metadata": {},
   "outputs": [
    {
     "name": "stdout",
     "output_type": "stream",
     "text": [
      "[0.]\n"
     ]
    }
   ],
   "source": [
    "'''鸽群算法'''\n",
    "#指南针算子更新\n",
    "for t in range(Nc1):     \n",
    "    Vec = VecNew\n",
    "    for i in range(pop):\n",
    "        R = 0.5\n",
    "        #速度更新\n",
    "        TempV = Vec[i,:] + random.random()*(GbestPositon[0,:] - X[i,:])\n",
    "        #位置更新\n",
    "        TempPosition = X[i,:]*(1-np.exp(-R*t)) + TempV\n",
    "        #边界检查\n",
    "        for j in range(dim):\n",
    "            if TempPosition[j]<lb[j] or TempPosition[j]>ub[j]:\n",
    "                TempPosition[j] = lb[j] + random.random()*(ub[j] - lb[j])\n",
    "                TempV[j] = random.random()\n",
    "        X_new[i,:] =  copy.copy(TempPosition)\n",
    "        VecNew[i,:] =  copy.copy(TempV)\n",
    "\n",
    "    X =  copy.copy(X_new)\n",
    "    X = BorderCheck(X, ub, lb, pop, dim)\n",
    "    fitness = CaculateFitness(X, fobj)  # 计算适应度值\n",
    "    fitness, sortIndex = SortFitness(fitness)  # 对适应度值排序\n",
    "    X = SortPosition(X, sortIndex)  # 种群排序\n",
    "    #print(\"===========No.\",t,\"============\\n\",fitness)\n",
    "    if fitness[0] <= GbestScore:  # 更新全局最优\n",
    "        GbestScore =  copy.copy(fitness[0])\n",
    "        GbestPositon[0,:] =  copy.copy(X[0, :])\n",
    "    Curve[t] = GbestScore\n",
    "print(max(Curve))"
   ]
  },
  {
   "cell_type": "code",
   "execution_count": 9,
   "metadata": {},
   "outputs": [
    {
     "name": "stdout",
     "output_type": "stream",
     "text": [
      "[0.]\n"
     ]
    }
   ],
   "source": [
    "'''改进鸽群算法'''\n",
    "#指南针算子更新\n",
    "for t in range(Nc1):     \n",
    "    Vec_op = VecNew_op\n",
    "    for i in range(pop):\n",
    "        R = 0.5\n",
    "        #速度更新\n",
    "        TempV_op = Vec_op[i,:] + random.random()*(GbestPositon_op[0,:] - X_op[i,:])\n",
    "        \n",
    "        #位置更新\n",
    "        TempPosition_op = X_op[i,:]*(1-np.exp(-R*t)) + TempV_op\n",
    "        #边界检查\n",
    "        for j in range(dim):\n",
    "            if TempPosition_op[j]<lb[j] or TempPosition_op[j]>ub[j]:\n",
    "                TempPosition_op[j] = lb[j] + random.random()*(ub[j] - lb[j])\n",
    "                TempV_op[j] = random.random()\n",
    "        X_new_op[i,:] =  copy.copy(TempPosition_op)\n",
    "        VecNew_op[i,:] =  copy.copy(TempV_op)\n",
    "\n",
    "    X_op =  copy.copy(X_new_op)\n",
    "    X_op = BorderCheck(X_op, ub, lb, pop, dim)\n",
    "    Y_op = opposite(X_op,ub,lb,0.9)# 反向种群\n",
    "    X_op = np.vstack((X_op,Y_op))\n",
    "    fitness_op = CaculateFitness(X_op, fobj)  # 计算适应度值\n",
    "    fitness_op, sortIndex_op = SortFitness(fitness_op)  # 对适应度值排序\n",
    "    X_op = SortPosition(X_op, sortIndex_op)[:pop]  # 种群排序\n",
    "    fitness_op = fitness_op[:pop]\n",
    "    #print(\"===========No.\",t,\"============\\n\",fitness_op)\n",
    "    if fitness_op[0] <= GbestScore_op:  # 更新全局最优\n",
    "        GbestScore_op =  copy.copy(fitness_op[0])\n",
    "        GbestPositon_op[0,:] =  copy.copy(X_op[0, :])\n",
    "    #print(GbestScore_op)\n",
    "    Curve_op[t] = GbestScore_op\n",
    "print(max(Curve_op))"
   ]
  },
  {
   "cell_type": "markdown",
   "metadata": {},
   "source": [
    "# step 4"
   ]
  },
  {
   "cell_type": "code",
   "execution_count": 10,
   "metadata": {},
   "outputs": [
    {
     "name": "stdout",
     "output_type": "stream",
     "text": [
      "Curve [-0.88148097]\n"
     ]
    }
   ],
   "source": [
    "'''鸽群算法'''\n",
    "# 地标算子更新\n",
    "for t in range(Nc2):\n",
    "    # 根据地标舍去后50%，并计算中心\n",
    "    S = 0\n",
    "    half = int(np.round(pop/2))\n",
    "    for i in range(half):\n",
    "        S = S + X[i,:]*fitness[i]\n",
    "\n",
    "    Xcenter = S/(half*np.sum(fitness[1:half]))\n",
    "    for i in range(half):\n",
    "        for j in range(dim):\n",
    "            Temp = X[i,j] + random.random()*(Xcenter[j] - X[i,j])\n",
    "            while Temp<lb[j] or Temp>ub[j]:\n",
    "                Temp = X[i,j] + random.random()*(Xcenter[j] - X[i,j])\n",
    "        X[i,:] =  copy.copy(Temp)\n",
    "\n",
    "    X = BorderCheck(X, ub, lb, pop, dim)\n",
    "    fitness = CaculateFitness(X, fobj)  # 计算适应度值\n",
    "    fitness, sortIndex = SortFitness(fitness)  # 对适应度值排序\n",
    "    X = SortPosition(X, sortIndex)  # 种群排序\n",
    "    # print(fitness)\n",
    "    if fitness[0] <= GbestScore:  # 更新全局最优\n",
    "        GbestScore = fitness[0]\n",
    "        GbestPositon[0,:] = X[0, :]\n",
    "    Curve[t + Nc1] = GbestScore\n",
    "print(\"Curve\",max(Curve))"
   ]
  },
  {
   "cell_type": "code",
   "execution_count": 11,
   "metadata": {},
   "outputs": [
    {
     "name": "stdout",
     "output_type": "stream",
     "text": [
      "Curve_op [-0.84133493]\n"
     ]
    }
   ],
   "source": [
    "'''改进鸽群算法'''\n",
    "#地标算子更新\n",
    "for t in range(Nc2):\n",
    "    # 根据地标舍去后50%，并计算中心\n",
    "    S = 0\n",
    "    r1 = 2-2*t/Nc1\n",
    "    half = int(np.round(pop/2))\n",
    "    for i in range(half):\n",
    "        S = S + X_op[i,:]*fitness_op[i]\n",
    "\n",
    "    Xcenter = S/(half*np.sum(fitness_op[1:half]))\n",
    "    for i in range(half):\n",
    "        for j in range(dim):\n",
    "            # Temp = X_op[i,j] + random.random()*(Xcenter[j] - X_op[i,j])\n",
    "            Temp = SCA(r1,X_op[i,j],Xcenter[j], X_op[i,j])\n",
    "            while Temp<lb[j] or Temp>ub[j]:\n",
    "                Temp = SCA(r1,X_op[i,j],Xcenter[j], X_op[i,j])\n",
    "        X_op[i,:] =  copy.copy(Temp)\n",
    "\n",
    "    X_op = BorderCheck(X_op, ub, lb, pop, dim)\n",
    "    fitness_op = CaculateFitness(X_op, fobj)  # 计算适应度值\n",
    "    fitness_op, sortIndex_op = SortFitness(fitness_op)  # 对适应度值排序\n",
    "    X_op = SortPosition(X_op, sortIndex_op)[:pop]  # 种群排序\n",
    "    fitness_op = fitness_op[:pop]\n",
    "    # print(fitness_op)\n",
    "    if fitness_op[0] <= GbestScore_op:  # 更新全局最优\n",
    "        GbestScore_op = fitness_op[0]\n",
    "        GbestPositon_op[0,:] = X_op[0, :]\n",
    "    Curve_op[t + Nc1] = GbestScore_op\n",
    "print(\"Curve_op\",max(Curve_op))\n",
    "# r1 = 2-2*t/Nc1\n",
    "# TempV_op = SCA(r1,Vec_op[i,:],GbestPositon_op[0,:],X_op[i,:])"
   ]
  },
  {
   "cell_type": "markdown",
   "metadata": {},
   "source": [
    "# 绘图"
   ]
  },
  {
   "cell_type": "code",
   "execution_count": 12,
   "metadata": {},
   "outputs": [
    {
     "data": {
      "image/png": "[encoded data removed]",
      "text/plain": [
       "<Figure size 432x288 with 1 Axes>"
      ]
     },
     "metadata": {
      "needs_background": "light"
     },
     "output_type": "display_data"
    }
   ],
   "source": [
    "#绘制适应度曲线\n",
    "plt.figure(1)\n",
    "\n",
    "plt.plot(Curve,'r-',label='PIO')\n",
    "plt.plot(Curve_op,'b-',label='ALPIO')\n",
    "# plt.semilogy(np.abs(Curve),'r-',label='PIO')\n",
    "# plt.semilogy(np.abs(Curve_op),'b-',label='ALPIO')\n",
    "\n",
    "\n",
    "plt.xlabel('Iteration',fontsize='medium')\n",
    "plt.ylabel(\"Fitness\",fontsize='medium')\n",
    "plt.grid()\n",
    "plt.title('Drop_Wave',fontsize='large')\n",
    "plt.legend()\n",
    "plt.show()"
   ]
  },
  {
   "cell_type": "code",
   "execution_count": 13,
   "metadata": {},
   "outputs": [
    {
     "data": {
      "text/plain": [
       "(array([-1.]), array([-0.99999994]))"
      ]
     },
     "execution_count": 13,
     "metadata": {},
     "output_type": "execute_result"
    }
   ],
   "source": [
    "GbestScore,GbestScore_op"
   ]
  },
  {
   "cell_type": "code",
   "execution_count": null,
   "metadata": {},
   "outputs": [],
   "source": []
  },
  {
   "cell_type": "markdown",
   "metadata": {},
   "source": [
    "# ALL"
   ]
  },
  {
   "cell_type": "code",
   "execution_count": 2,
   "metadata": {},
   "outputs": [
    {
     "ename": "NameError",
     "evalue": "name 'X' is not defined",
     "output_type": "error",
     "traceback": [
      "\u001b[1;31m---------------------------------------------------------------------------\u001b[0m",
      "\u001b[1;31mNameError\u001b[0m                                 Traceback (most recent call last)",
      "\u001b[1;32m<ipython-input-2-2192a2528110>\u001b[0m in \u001b[0;36m<module>\u001b[1;34m\u001b[0m\n\u001b[0;32m      1\u001b[0m \u001b[1;34m'''鸽群算法'''\u001b[0m\u001b[1;33m\u001b[0m\u001b[1;33m\u001b[0m\u001b[0m\n\u001b[1;32m----> 2\u001b[1;33m \u001b[0mX_new\u001b[0m \u001b[1;33m=\u001b[0m \u001b[0mX\u001b[0m\u001b[1;33m\u001b[0m\u001b[1;33m\u001b[0m\u001b[0m\n\u001b[0m\u001b[0;32m      3\u001b[0m \u001b[0mVecNew\u001b[0m \u001b[1;33m=\u001b[0m \u001b[0mVec\u001b[0m\u001b[1;33m\u001b[0m\u001b[1;33m\u001b[0m\u001b[0m\n\u001b[0;32m      4\u001b[0m \u001b[1;31m#地图更新\u001b[0m\u001b[1;33m\u001b[0m\u001b[1;33m\u001b[0m\u001b[1;33m\u001b[0m\u001b[0m\n\u001b[0;32m      5\u001b[0m \u001b[1;32mfor\u001b[0m \u001b[0mt\u001b[0m \u001b[1;32min\u001b[0m \u001b[0mrange\u001b[0m\u001b[1;33m(\u001b[0m\u001b[0mNc1\u001b[0m\u001b[1;33m)\u001b[0m\u001b[1;33m:\u001b[0m\u001b[1;33m\u001b[0m\u001b[1;33m\u001b[0m\u001b[0m\n",
      "\u001b[1;31mNameError\u001b[0m: name 'X' is not defined"
     ]
    }
   ],
   "source": [
    "'''鸽群算法'''\n",
    "X_new = X\n",
    "VecNew = Vec\n",
    "#地图更新\n",
    "for t in range(Nc1):     \n",
    "    Vec = VecNew\n",
    "    for i in range(pop):\n",
    "        R = random.random()\n",
    "        #速度更新\n",
    "        TempV = Vec[i,:] + random.random()*(GbestPositon[0,:] - X[i,:])\n",
    "        #位置更新\n",
    "        TempPosition = X[i,:]*(1-np.exp(-R*t)) + TempV\n",
    "        #边界检查\n",
    "        for j in range(dim):\n",
    "            if TempPosition[j]<lb[j] or TempPosition[j]>ub[j]:\n",
    "                TempPosition[j] = lb[j] + random.random()*(ub[j] - lb[j])\n",
    "                TempV[j] = random.random()\n",
    "        X_new[i,:] =  copy.copy(TempPosition)\n",
    "        VecNew[i,:] =  copy.copy(TempV)\n",
    "\n",
    "    X =  copy.copy(X_new)\n",
    "    X = BorderCheck(X, ub, lb, pop, dim)\n",
    "    fitness = CaculateFitness(X, fobj)  # 计算适应度值\n",
    "    fitness, sortIndex = SortFitness(fitness)  # 对适应度值排序\n",
    "    X = SortPosition(X, sortIndex)  # 种群排序\n",
    "    if fitness[0] <= GbestScore:  # 更新全局最优\n",
    "        GbestScore =  copy.copy(fitness[0])\n",
    "        GbestPositon[0,:] =  copy.copy(X[0, :])\n",
    "    Curve[t] = GbestScore\n",
    "\n",
    "\n",
    "# 地标算子更新\n",
    "for t in range(Nc2):\n",
    "    # 根据地标舍去后50%，并计算中心\n",
    "    S = 0\n",
    "    half = int(np.round(pop/2))\n",
    "    for i in range(half):\n",
    "        S = S + X[i,:]*fitness[i]\n",
    "\n",
    "    Xcenter = S/(half*np.sum(fitness[1:half]))\n",
    "    for i in range(half):\n",
    "        for j in range(dim):\n",
    "            Temp = X[i,j] + random.random()*(Xcenter[j] - X[i,j])\n",
    "            while Temp<lb[j] or Temp>ub[j]:\n",
    "                Temp = X[i,j] + random.random()*(Xcenter[j] - X[i,j])\n",
    "        X[i,:] =  copy.copy(Temp)\n",
    "\n",
    "    X = BorderCheck(X, ub, lb, pop, dim)\n",
    "    fitness = CaculateFitness(X, fobj)  # 计算适应度值\n",
    "    fitness, sortIndex = SortFitness(fitness)  # 对适应度值排序\n",
    "    X = SortPosition(X, sortIndex)  # 种群排序\n",
    "    if fitness[0] <= GbestScore:  # 更新全局最优\n",
    "        GbestScore = fitness[0]\n",
    "        GbestPositon[0,:] = X[0, :]\n",
    "    Curve[t + Nc1] = GbestScore\n",
    "\n",
    "Curve[:20]"
   ]
  },
  {
   "cell_type": "code",
   "execution_count": 3,
   "metadata": {},
   "outputs": [
    {
     "ename": "NameError",
     "evalue": "name 'X_op' is not defined",
     "output_type": "error",
     "traceback": [
      "\u001b[1;31m---------------------------------------------------------------------------\u001b[0m",
      "\u001b[1;31mNameError\u001b[0m                                 Traceback (most recent call last)",
      "\u001b[1;32m<ipython-input-3-49255270e915>\u001b[0m in \u001b[0;36m<module>\u001b[1;34m\u001b[0m\n\u001b[0;32m      1\u001b[0m \u001b[1;34m'''改进鸽群算法'''\u001b[0m\u001b[1;33m\u001b[0m\u001b[1;33m\u001b[0m\u001b[0m\n\u001b[1;32m----> 2\u001b[1;33m \u001b[0mX_new_op\u001b[0m \u001b[1;33m=\u001b[0m \u001b[0mX_op\u001b[0m\u001b[1;33m\u001b[0m\u001b[1;33m\u001b[0m\u001b[0m\n\u001b[0m\u001b[0;32m      3\u001b[0m \u001b[0mVecNew_op\u001b[0m \u001b[1;33m=\u001b[0m \u001b[0mVec_op\u001b[0m\u001b[1;33m\u001b[0m\u001b[1;33m\u001b[0m\u001b[0m\n\u001b[0;32m      4\u001b[0m \u001b[1;33m\u001b[0m\u001b[0m\n\u001b[0;32m      5\u001b[0m \u001b[1;31m#指南针算子更新\u001b[0m\u001b[1;33m\u001b[0m\u001b[1;33m\u001b[0m\u001b[1;33m\u001b[0m\u001b[0m\n",
      "\u001b[1;31mNameError\u001b[0m: name 'X_op' is not defined"
     ]
    }
   ],
   "source": [
    "\n",
    "'''改进鸽群算法'''\n",
    "X_new_op = X_op\n",
    "VecNew_op = Vec_op\n",
    "\n",
    "#指南针算子更新\n",
    "for t in range(Nc1):     \n",
    "    Vec_op = VecNew_op\n",
    "    for i in range(pop):\n",
    "        R = random.random()\n",
    "        #速度更新\n",
    "        TempV_op = Vec_op[i,:] + random.random()*(GbestPositon_op[0,:] - X_op[i,:])\n",
    "        #位置更新\n",
    "        TempPosition_op = X_op[i,:]*(1-np.exp(-R*t)) + TempV_op\n",
    "        #边界检查\n",
    "        for j in range(dim):\n",
    "            if TempPosition_op[j]<lb[j] or TempPosition_op[j]>ub[j]:\n",
    "                TempPosition_op[j] = lb[j] + random.random()*(ub[j] - lb[j])\n",
    "                TempV_op[j] = random.random()\n",
    "        X_new_op[i,:] =  copy.copy(TempPosition_op)\n",
    "        VecNew_op[i,:] =  copy.copy(TempV_op)\n",
    "\n",
    "    X_op =  copy.copy(X_new_op)\n",
    "    X_op = BorderCheck(X_op, ub, lb, pop, dim)\n",
    "    Y_op = opposite(X_op,ub,lb,0.9)# 反向种群\n",
    "    X_op = np.vstack((X_op,Y_op))\n",
    "    fitness_op = CaculateFitness(X_op, fobj)  # 计算适应度值\n",
    "    fitness_op, sortIndex_op = SortFitness(fitness_op)  # 对适应度值排序\n",
    "    X_op = SortPosition(X_op, sortIndex_op)[:pop]  # 种群排序\n",
    "    if fitness_op[0] <= GbestScore_op:  # 更新全局最优\n",
    "        GbestScore_op =  copy.copy(fitness_op[0])\n",
    "        GbestPositon_op[0,:] =  copy.copy(X_op[0, :])\n",
    "    Curve_op[t] = GbestScore_op\n",
    "\n",
    "\n",
    "#地标算子更新\n",
    "for t in range(Nc2):\n",
    "    # 根据地标舍去后50%，并计算中心\n",
    "    S = 0\n",
    "    half = int(np.round(pop/2))\n",
    "    for i in range(half):\n",
    "        S = S + X_op[i,:]*fitness_op[i]\n",
    "\n",
    "    Xcenter = S/(half*np.sum(fitness_op[1:half]))\n",
    "    for i in range(half):\n",
    "        for j in range(dim):\n",
    "            Temp = X_op[i,j] + random.random()*(Xcenter[j] - X_op[i,j])\n",
    "            while Temp<lb[j] or Temp>ub[j]:\n",
    "                Temp = X_op[i,j] + random.random()*(Xcenter[j] - X_op[i,j])\n",
    "        X_op[i,:] =  copy.copy(Temp)\n",
    "\n",
    "    X_op = BorderCheck(X_op, ub, lb, pop, dim)\n",
    "    fitness_op = CaculateFitness(X_op, fobj)  # 计算适应度值\n",
    "    fitness_op, sortIndex_op = SortFitness(fitness_op)  # 对适应度值排序\n",
    "    X_op = SortPosition(X_op, sortIndex_op)  # 种群排序\n",
    "    if fitness_op[0] <= GbestScore_op:  # 更新全局最优\n",
    "        GbestScore_op = fitness_op[0]\n",
    "        GbestPositon_op[0,:] = X_op[0, :]\n",
    "    Curve_op[t + Nc1] = GbestScore_op\n",
    "Curve_op[:20]"
   ]
  },
  {
   "cell_type": "code",
   "execution_count": 4,
   "metadata": {},
   "outputs": [
    {
     "ename": "NameError",
     "evalue": "name 'np' is not defined",
     "output_type": "error",
     "traceback": [
      "\u001b[1;31m---------------------------------------------------------------------------\u001b[0m",
      "\u001b[1;31mNameError\u001b[0m                                 Traceback (most recent call last)",
      "\u001b[1;32m<ipython-input-4-ffcbdcab5c3c>\u001b[0m in \u001b[0;36m<module>\u001b[1;34m\u001b[0m\n\u001b[1;32m----> 1\u001b[1;33m \u001b[0mnp\u001b[0m\u001b[1;33m.\u001b[0m\u001b[0msin\u001b[0m\u001b[1;33m(\u001b[0m\u001b[1;36m10\u001b[0m\u001b[1;33m)\u001b[0m\u001b[1;33m\u001b[0m\u001b[1;33m\u001b[0m\u001b[0m\n\u001b[0m",
      "\u001b[1;31mNameError\u001b[0m: name 'np' is not defined"
     ]
    }
   ],
   "source": [
    "np.sin(10)"
   ]
  },
  {
   "cell_type": "code",
   "execution_count": 2,
   "metadata": {},
   "outputs": [
    {
     "ename": "NameError",
     "evalue": "name 'python' is not defined",
     "output_type": "error",
     "traceback": [
      "\u001b[1;31m---------------------------------------------------------------------------\u001b[0m",
      "\u001b[1;31mNameError\u001b[0m                                 Traceback (most recent call last)",
      "\u001b[1;32m<ipython-input-2-2a0663a0ebca>\u001b[0m in \u001b[0;36m<module>\u001b[1;34m\u001b[0m\n\u001b[1;32m----> 1\u001b[1;33m \u001b[0mpython\u001b[0m \u001b[1;33m-\u001b[0m\u001b[0mV\u001b[0m\u001b[1;33m\u001b[0m\u001b[1;33m\u001b[0m\u001b[0m\n\u001b[0m",
      "\u001b[1;31mNameError\u001b[0m: name 'python' is not defined"
     ]
    }
   ],
   "source": [
    "python -V"
   ]
  },
  {
   "cell_type": "code",
   "execution_count": null,
   "metadata": {},
   "outputs": [
    {
     "name": "stdout",
     "output_type": "stream",
     "text": [
      "\n",
      "Welcome to Python 3.8's help utility!\n",
      "\n",
      "If this is your first time using Python, you should definitely check out\n",
      "the tutorial on the Internet at https://docs.python.org/3.8/tutorial/.\n",
      "\n",
      "Enter the name of any module, keyword, or topic to get help on writing\n",
      "Python programs and using Python modules.  To quit this help utility and\n",
      "return to the interpreter, just type \"quit\".\n",
      "\n",
      "To get a list of available modules, keywords, symbols, or topics, type\n",
      "\"modules\", \"keywords\", \"symbols\", or \"topics\".  Each module also comes\n",
      "with a one-line summary of what it does; to list the modules whose name\n",
      "or summary contain a given string such as \"spam\", type \"modules spam\".\n",
      "\n"
     ]
    }
   ],
   "source": [
    "help()"
   ]
  },
  {
   "cell_type": "code",
   "execution_count": null,
   "metadata": {},
   "outputs": [],
   "source": []
  }
 ],
 "metadata": {
  "kernelspec": {
   "display_name": "Python 3",
   "language": "python",
   "name": "python3"
  },
  "language_info": {
   "codemirror_mode": {
    "name": "ipython",
    "version": 3
   },
   "file_extension": ".py",
   "mimetype": "text/x-python",
   "name": "python",
   "nbconvert_exporter": "python",
   "pygments_lexer": "ipython3",
   "version": "3.8.3"
  }
 },
 "nbformat": 4,
 "nbformat_minor": 4
}
